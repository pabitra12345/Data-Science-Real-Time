{
  "nbformat": 4,
  "nbformat_minor": 0,
  "metadata": {
    "kernelspec": {
      "display_name": "Python 3",
      "language": "python",
      "name": "python3"
    },
    "language_info": {
      "codemirror_mode": {
        "name": "ipython",
        "version": 3
      },
      "file_extension": ".py",
      "mimetype": "text/x-python",
      "name": "python",
      "nbconvert_exporter": "python",
      "pygments_lexer": "ipython3",
      "version": "3.7.1"
    },
    "colab": {
      "name": "Automatic Music Generation using DL.ipynb",
      "provenance": []
    }
  },
  "cells": [
    {
      "cell_type": "code",
      "metadata": {
        "id": "xKyiZJl52pdf",
        "colab_type": "code",
        "colab": {}
      },
      "source": [
        "from music21 import *"
      ],
      "execution_count": 0,
      "outputs": []
    },
    {
      "cell_type": "code",
      "metadata": {
        "id": "1899AGgE2pdm",
        "colab_type": "code",
        "colab": {}
      },
      "source": [
        "def read_midi(file):\n",
        "    print('Loading Music File:', file)\n",
        "    \n",
        "    notes=[]\n",
        "    notes_to_parse = None\n",
        "    \n",
        "    midi = converter.parse(file)\n",
        "    s2 = instrument.partitionByInstrument(midi)\n",
        "    \n",
        "    for part in s2.parts:\n",
        "        if 'Piano' in str(part):\n",
        "            notes_to_parse = part.recurse()\n",
        "            \n",
        "            for element in notes_to_parse:\n",
        "                if isinstance(element, note.Note):\n",
        "                    notes.append(str(element.pitch))\n",
        "                    \n",
        "                elif isinstance(element, chord.Chord):\n",
        "                    notes.append('.'.join(str(n) for n in element.normalOrder))\n",
        "                    \n",
        "    return np.array(notes)"
      ],
      "execution_count": 0,
      "outputs": []
    },
    {
      "cell_type": "code",
      "metadata": {
        "id": "yq77C-gF2pdq",
        "colab_type": "code",
        "colab": {}
      },
      "source": [
        "import os\n",
        "import numpy as np\n",
        "\n",
        "path='schubert/'\n",
        "\n",
        "files=[i for i in os.listdir(path) if i.endswith('.mid')]\n",
        "notes_array = np.array([read_midi(path+i) for i in files]) "
      ],
      "execution_count": 0,
      "outputs": []
    },
    {
      "cell_type": "code",
      "metadata": {
        "id": "XTY-H37q2pdu",
        "colab_type": "code",
        "colab": {}
      },
      "source": [
        "\n",
        "notes_ = [element for note_ in notes_array for element in note_]\n",
        "\n",
        "unique_notes = list(set(notes_))\n",
        "print(len(unique_notes))"
      ],
      "execution_count": 0,
      "outputs": []
    },
    {
      "cell_type": "code",
      "metadata": {
        "id": "6JWYBcpG2pdy",
        "colab_type": "code",
        "colab": {}
      },
      "source": [
        "from collections import Counter\n",
        "\n",
        "freq = dict(Counter(notes_))\n",
        "\n",
        "import matplotlib.pyplot as plt\n",
        "\n",
        "no=[count for _, count in freq.items()]\n",
        "plt.figure(figsize=(5,5))\n",
        "\n",
        "plt.hist(no)"
      ],
      "execution_count": 0,
      "outputs": []
    },
    {
      "cell_type": "code",
      "metadata": {
        "id": "xkhbBH902pd4",
        "colab_type": "code",
        "colab": {}
      },
      "source": [
        "frequency_notes = [note_ for note_, count in freq.items() if count>=50]\n",
        "print(len(frequency_notes))"
      ],
      "execution_count": 0,
      "outputs": []
    },
    {
      "cell_type": "code",
      "metadata": {
        "id": "zDHXlxDT2pd_",
        "colab_type": "code",
        "colab": {}
      },
      "source": [
        "new_music=[]\n",
        "\n",
        "for notes in notes_array:\n",
        "    temp=[]\n",
        "    for note_ in notes:\n",
        "        if note_ in frequency_notes:\n",
        "            temp.append(note_)\n",
        "    new_music.append(temp)\n",
        "    \n",
        "new_music = np.array(new_music)"
      ],
      "execution_count": 0,
      "outputs": []
    },
    {
      "cell_type": "code",
      "metadata": {
        "id": "WXT65sNS2peL",
        "colab_type": "code",
        "colab": {}
      },
      "source": [
        "no_of_timestamps = 32\n",
        "x = []\n",
        "y = []\n",
        "\n",
        "for note_ in new_music:\n",
        "    for i in range(0, len(note_) - no_of_timestamps, 1):\n",
        "        input_ = note_[i:i + no_of_timestamps]\n",
        "        output = note_[i + no_of_timestamps]\n",
        "        \n",
        "        x.append(input_)\n",
        "        y.append(output)\n",
        "\n",
        "x=np.array(x)\n",
        "y=np.array(y)"
      ],
      "execution_count": 0,
      "outputs": []
    },
    {
      "cell_type": "code",
      "metadata": {
        "id": "9Wuk-s4o2peT",
        "colab_type": "code",
        "colab": {}
      },
      "source": [
        "unique_x = list(set(x.ravel()))\n",
        "x_note_to_int = dict((note_,number) for number, note_ in enumerate(unique_x)) "
      ],
      "execution_count": 0,
      "outputs": []
    },
    {
      "cell_type": "code",
      "metadata": {
        "id": "WI942jqE2peY",
        "colab_type": "code",
        "colab": {}
      },
      "source": [
        "x_seq=[]\n",
        "for i in x:\n",
        "    temp=[]\n",
        "    for j in i:\n",
        "        temp.append(x_note_to_int[j])\n",
        "    x_seq.append(temp)\n",
        "    \n",
        "x_seq = np.array(x_seq)"
      ],
      "execution_count": 0,
      "outputs": []
    },
    {
      "cell_type": "code",
      "metadata": {
        "id": "UveLTcOn2pee",
        "colab_type": "code",
        "colab": {}
      },
      "source": [
        "unique_y = list(set(y))\n",
        "y_note_to_int = dict((note_,number) for number, note_ in enumerate(unique_y))\n",
        "y_seq = np.array([y_note_to_int[i] for i in y])"
      ],
      "execution_count": 0,
      "outputs": []
    },
    {
      "cell_type": "code",
      "metadata": {
        "id": "9GiVbu1E2pek",
        "colab_type": "code",
        "colab": {}
      },
      "source": [
        "from sklearn.model_selection import train_test_split\n",
        "x_tr, x_val, y_tr, y_val = train_test_split(x_seq, y_seq, test_size=0.2, random_state=0)"
      ],
      "execution_count": 0,
      "outputs": []
    },
    {
      "cell_type": "code",
      "metadata": {
        "id": "rx1Qgttn2per",
        "colab_type": "code",
        "colab": {}
      },
      "source": [
        "def lstm():\n",
        "    model = Sequential()\n",
        "    model.add(LSTM(128, return_sequences=True))\n",
        "    model.add(LSTM(128))\n",
        "    model.add(Dense(256))\n",
        "    model.add(Activation('relu'))\n",
        "    model.add(Dense(n_vocab))\n",
        "    model.add(Activation('softmax'))\n",
        "    model.compile(loss='sparse_categorical_crossentropy', optimizer='adam')\n",
        "    return model "
      ],
      "execution_count": 0,
      "outputs": []
    },
    {
      "cell_type": "code",
      "metadata": {
        "id": "V2wuQl0D2pex",
        "colab_type": "code",
        "colab": {}
      },
      "source": [
        "from keras.layers import * \n",
        "from keras.models import *\n",
        "from keras.callbacks import *\n",
        "import keras.backend as k\n",
        "\n",
        "k.clear_session()\n",
        "model = Sequential()\n",
        "\n",
        "model.add(Embedding(len(unique_x), 100, input_length=32, trainable=True))\n",
        "\n",
        "model.add(Conv1D(64, 3, padding='causal', activation='relu')) \n",
        "model.add(Dropout(0.2))\n",
        "model.add(MaxPool1D(2))\n",
        "\n",
        "model.add(Conv1D(128, 3, activation='relu', dilation_rate=2, padding='causal')) \n",
        "model.add(Dropout(0.2))\n",
        "model.add(MaxPool1D(2))\n",
        "\n",
        "model.add(Conv1D(256, 3, activation='relu', dilation_rate=4, padding='causal'))\n",
        "model.add(Dropout(0.2))\n",
        "model.add(MaxPool1D(2))\n",
        "          \n",
        "model.add(GlobalMaxPool1D())\n",
        "\n",
        "model.add(Dense(256, activation='relu'))\n",
        "model.add(Dense(len(unique_y), activation='softmax'))\n",
        "\n",
        "model.compile(loss='sparse_categorical_crossentropy', optimizer='adam')\n",
        "\n",
        "model.summary()"
      ],
      "execution_count": 0,
      "outputs": []
    },
    {
      "cell_type": "code",
      "metadata": {
        "id": "_beZT0lO2pe2",
        "colab_type": "code",
        "colab": {}
      },
      "source": [
        "mc=ModelCheckpoint('best_model.h5', monitor='val_loss', mode='min', save_best_only=True, verbose=1)"
      ],
      "execution_count": 0,
      "outputs": []
    },
    {
      "cell_type": "code",
      "metadata": {
        "id": "ZVL6eFt02pe7",
        "colab_type": "code",
        "colab": {}
      },
      "source": [
        "history=model.fit(np.array(x_tr),np.array(y_tr),batch_size=128,epochs=50,validation_data=(np.array(x_val),\n",
        "                np.array(y_val)),verbose=1, callbacks=[mc])"
      ],
      "execution_count": 0,
      "outputs": []
    },
    {
      "cell_type": "code",
      "metadata": {
        "id": "OBLl8R9Q2pe_",
        "colab_type": "code",
        "colab": {}
      },
      "source": [
        "from keras.models import load_model\n",
        "model = load_model('best_model.h5')"
      ],
      "execution_count": 0,
      "outputs": []
    },
    {
      "cell_type": "code",
      "metadata": {
        "id": "QpeWNGkL2pfE",
        "colab_type": "code",
        "colab": {}
      },
      "source": [
        "import random \n",
        "\n",
        "ind = np.random.randint(0,len(x_val)-1)\n",
        "random_music = x_val[ind]\n",
        "\n",
        "predictions=[]\n",
        "for i in range(10):\n",
        "    random_music = random_music.reshape(1,no_of_timestamps)\n",
        "    \n",
        "    prob = model.predict(random_music)[0]\n",
        "    y_pred = np.argmax(prob, axis=0)\n",
        "    predictions.append(y_pred)\n",
        "    \n",
        "    random_music = np.insert(random_music[0], len(random_music[0]), y_pred)\n",
        "    random_music = random_music[1:]\n",
        "    \n",
        "print(predictions)"
      ],
      "execution_count": 0,
      "outputs": []
    },
    {
      "cell_type": "code",
      "metadata": {
        "id": "5DlM0LuF2pfL",
        "colab_type": "code",
        "colab": {}
      },
      "source": [
        "x_int_to_note = dict((number, note_) for number, note_ in enumerate(unique_x)) \n",
        "predicted_notes = [x_int_to_note[i] for i in predictions]"
      ],
      "execution_count": 0,
      "outputs": []
    },
    {
      "cell_type": "code",
      "metadata": {
        "id": "S-WRQ0Q32pfP",
        "colab_type": "code",
        "colab": {}
      },
      "source": [
        "def convert_to_midi(prediction_output):\n",
        "   \n",
        "    offset = 0\n",
        "    output_notes = []\n",
        "\n",
        "    # create note and chord objects based on the values generated by the model\n",
        "    for pattern in prediction_output:\n",
        "        \n",
        "        # pattern is a chord\n",
        "        if ('.' in pattern) or pattern.isdigit():\n",
        "            notes_in_chord = pattern.split('.')\n",
        "            notes = []\n",
        "            for current_note in notes_in_chord:\n",
        "                \n",
        "                cn=int(current_note)\n",
        "                new_note = note.Note(cn)\n",
        "                new_note.storedInstrument = instrument.Piano()\n",
        "                notes.append(new_note)\n",
        "                \n",
        "            new_chord = chord.Chord(notes)\n",
        "            new_chord.offset = offset\n",
        "            output_notes.append(new_chord)\n",
        "            \n",
        "        # pattern is a note\n",
        "        else:\n",
        "            \n",
        "            new_note = note.Note(pattern)\n",
        "            new_note.offset = offset\n",
        "            new_note.storedInstrument = instrument.Piano()\n",
        "            output_notes.append(new_note)\n",
        "\n",
        "        # increase offset each iteration so that notes do not stack\n",
        "        offset += 1\n",
        "    midi_stream = stream.Stream(output_notes)\n",
        "    midi_stream.write('midi', fp='music.mid')"
      ],
      "execution_count": 0,
      "outputs": []
    },
    {
      "cell_type": "code",
      "metadata": {
        "id": "7QKCLB2c2pfS",
        "colab_type": "code",
        "colab": {}
      },
      "source": [
        "convert_to_midi(predicted_notes)"
      ],
      "execution_count": 0,
      "outputs": []
    },
    {
      "cell_type": "code",
      "metadata": {
        "id": "UoOctwZM2pfX",
        "colab_type": "code",
        "colab": {}
      },
      "source": [
        ""
      ],
      "execution_count": 0,
      "outputs": []
    }
  ]
}
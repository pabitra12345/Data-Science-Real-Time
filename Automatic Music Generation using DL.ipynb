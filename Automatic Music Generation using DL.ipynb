{
 "cells": [
  {
   "cell_type": "code",
   "execution_count": 2,
   "metadata": {},
   "outputs": [],
   "source": [
    "from music21 import *"
   ]
  },
  {
   "cell_type": "code",
   "execution_count": 20,
   "metadata": {},
   "outputs": [],
   "source": [
    "def read_midi(file):\n",
    "    print('Loading Music File:', file)\n",
    "    \n",
    "    notes=[]\n",
    "    notes_to_parse = None\n",
    "    \n",
    "    midi = converter.parse(file)\n",
    "    s2 = instrument.partitionByInstrument(midi)\n",
    "    \n",
    "    for part in s2.parts:\n",
    "        if 'Piano' in str(part):\n",
    "            notes_to_parse = part.recurse()\n",
    "            \n",
    "            for element in notes_to_parse:\n",
    "                if isinstance(element, note.Note):\n",
    "                    notes.append(str(element.pitch))\n",
    "                    \n",
    "                elif isinstance(element, chord.Chord):\n",
    "                    notes.append('.'.join(str(n) for n in element.normalOrder))\n",
    "                    \n",
    "    return np.array(notes)"
   ]
  },
  {
   "cell_type": "code",
   "execution_count": 21,
   "metadata": {},
   "outputs": [
    {
     "name": "stdout",
     "output_type": "stream",
     "text": [
      "Loading Music File: schubert/schubert_D850_1.mid\n",
      "Loading Music File: schubert/schubert_D850_2.mid\n",
      "Loading Music File: schubert/schubert_D850_3.mid\n",
      "Loading Music File: schubert/schubert_D850_4.mid\n",
      "Loading Music File: schubert/schubert_D935_1.mid\n",
      "Loading Music File: schubert/schubert_D935_2.mid\n",
      "Loading Music File: schubert/schubert_D935_3.mid\n",
      "Loading Music File: schubert/schubert_D935_4.mid\n",
      "Loading Music File: schubert/schub_d760_1.mid\n",
      "Loading Music File: schubert/schub_d760_2.mid\n",
      "Loading Music File: schubert/schub_d760_3.mid\n",
      "Loading Music File: schubert/schub_d760_4.mid\n",
      "Loading Music File: schubert/schub_d960_1.mid\n",
      "Loading Music File: schubert/schub_d960_2.mid\n",
      "Loading Music File: schubert/schub_d960_3.mid\n",
      "Loading Music File: schubert/schub_d960_4.mid\n",
      "Loading Music File: schubert/schuim-1.mid\n",
      "Loading Music File: schubert/schuim-2.mid\n",
      "Loading Music File: schubert/schuim-3.mid\n",
      "Loading Music File: schubert/schuim-4.mid\n",
      "Loading Music File: schubert/schumm-1.mid\n",
      "Loading Music File: schubert/schumm-2.mid\n",
      "Loading Music File: schubert/schumm-3.mid\n",
      "Loading Music File: schubert/schumm-4.mid\n",
      "Loading Music File: schubert/schumm-5.mid\n",
      "Loading Music File: schubert/schumm-6.mid\n",
      "Loading Music File: schubert/schu_143_1.mid\n",
      "Loading Music File: schubert/schu_143_2.mid\n",
      "Loading Music File: schubert/schu_143_3.mid\n"
     ]
    }
   ],
   "source": [
    "import os\n",
    "import numpy as np\n",
    "\n",
    "path='schubert/'\n",
    "\n",
    "files=[i for i in os.listdir(path) if i.endswith('.mid')]\n",
    "notes_array = np.array([read_midi(path+i) for i in files]) "
   ]
  },
  {
   "cell_type": "code",
   "execution_count": 22,
   "metadata": {},
   "outputs": [
    {
     "name": "stdout",
     "output_type": "stream",
     "text": [
      "304\n"
     ]
    }
   ],
   "source": [
    "notes_ = [element for note_ in notes_array for element in note_]\n",
    "\n",
    "unique_notes = list(set(notes_))\n",
    "print(len(unique_notes))"
   ]
  },
  {
   "cell_type": "code",
   "execution_count": 23,
   "metadata": {},
   "outputs": [
    {
     "data": {
      "text/plain": [
       "(array([187.,  41.,  26.,  11.,   6.,   9.,  12.,   6.,   3.,   3.]),\n",
       " array([1.0000e+00, 1.4790e+02, 2.9480e+02, 4.4170e+02, 5.8860e+02,\n",
       "        7.3550e+02, 8.8240e+02, 1.0293e+03, 1.1762e+03, 1.3231e+03,\n",
       "        1.4700e+03]),\n",
       " <a list of 10 Patch objects>)"
      ]
     },
     "execution_count": 23,
     "metadata": {},
     "output_type": "execute_result"
    },
    {
     "data": {
      "image/png": "[encoded data removed]",
      "text/plain": [
       "<Figure size 360x360 with 1 Axes>"
      ]
     },
     "metadata": {
      "image/png": {
       "height": 302,
       "width": 319
      },
      "needs_background": "light"
     },
     "output_type": "display_data"
    }
   ],
   "source": [
    "from collections import Counter\n",
    "\n",
    "freq = dict(Counter(notes_))\n",
    "\n",
    "import matplotlib.pyplot as plt\n",
    "\n",
    "no=[count for _, count in freq.items()]\n",
    "plt.figure(figsize=(5,5))\n",
    "\n",
    "plt.hist(no)"
   ]
  },
  {
   "cell_type": "code",
   "execution_count": 24,
   "metadata": {},
   "outputs": [
    {
     "name": "stdout",
     "output_type": "stream",
     "text": [
      "167\n"
     ]
    }
   ],
   "source": [
    "frequency_notes = [note_ for note_, count in freq.items() if count>=50]\n",
    "print(len(frequency_notes))"
   ]
  },
  {
   "cell_type": "code",
   "execution_count": 25,
   "metadata": {},
   "outputs": [],
   "source": [
    "new_music=[]\n",
    "\n",
    "for notes in notes_array:\n",
    "    temp=[]\n",
    "    for note_ in notes:\n",
    "        if note_ in frequency_notes:\n",
    "            temp.append(note_)\n",
    "    new_music.append(temp)\n",
    "    \n",
    "new_music = np.array(new_music)"
   ]
  },
  {
   "cell_type": "code",
   "execution_count": 27,
   "metadata": {},
   "outputs": [],
   "source": [
    "no_of_timestamps = 32\n",
    "x = []\n",
    "y = []\n",
    "\n",
    "for note_ in new_music:\n",
    "    for i in range(0, len(note_) - no_of_timestamps, 1):\n",
    "        input_ = note_[i:i + no_of_timestamps]\n",
    "        output = note_[i + no_of_timestamps]\n",
    "        \n",
    "        x.append(input_)\n",
    "        y.append(output)\n",
    "\n",
    "x=np.array(x)\n",
    "y=np.array(y)"
   ]
  },
  {
   "cell_type": "code",
   "execution_count": 29,
   "metadata": {},
   "outputs": [],
   "source": [
    "unique_x = list(set(x.ravel()))\n",
    "x_note_to_int = dict((note_,number) for number, note_ in enumerate(unique_x)) "
   ]
  },
  {
   "cell_type": "code",
   "execution_count": 30,
   "metadata": {},
   "outputs": [],
   "source": [
    "x_seq=[]\n",
    "for i in x:\n",
    "    temp=[]\n",
    "    for j in i:\n",
    "        temp.append(x_note_to_int[j])\n",
    "    x_seq.append(temp)\n",
    "    \n",
    "x_seq = np.array(x_seq)"
   ]
  },
  {
   "cell_type": "code",
   "execution_count": 31,
   "metadata": {},
   "outputs": [],
   "source": [
    "unique_y = list(set(y))\n",
    "y_note_to_int = dict((note_,number) for number, note_ in enumerate(unique_y))\n",
    "y_seq = np.array([y_note_to_int[i] for i in y])"
   ]
  },
  {
   "cell_type": "code",
   "execution_count": 32,
   "metadata": {},
   "outputs": [],
   "source": [
    "from sklearn.model_selection import train_test_split\n",
    "x_tr, x_val, y_tr, y_val = train_test_split(x_seq, y_seq, test_size=0.2, random_state=0)"
   ]
  },
  {
   "cell_type": "code",
   "execution_count": 33,
   "metadata": {},
   "outputs": [],
   "source": [
    "def lstm():\n",
    "    model = Sequential()\n",
    "    model.add(LSTM(128, return_sequences=True))\n",
    "    model.add(LSTM(128))\n",
    "    model.add(Dense(256))\n",
    "    model.add(Activation('relu'))\n",
    "    model.add(Dense(n_vocab))\n",
    "    model.add(Activation('softmax'))\n",
    "    model.compile(loss='sparse_categorical_crossentropy', optimizer='adam')\n",
    "    return model "
   ]
  },
  {
   "cell_type": "code",
   "execution_count": 34,
   "metadata": {},
   "outputs": [
    {
     "name": "stdout",
     "output_type": "stream",
     "text": [
      "WARNING:tensorflow:From C:\\Users\\nagarc1\\AppData\\Local\\Continuum\\anaconda3\\lib\\site-packages\\tensorflow\\python\\framework\\op_def_library.py:263: colocate_with (from tensorflow.python.framework.ops) is deprecated and will be removed in a future version.\n",
      "Instructions for updating:\n",
      "Colocations handled automatically by placer.\n",
      "WARNING:tensorflow:From C:\\Users\\nagarc1\\AppData\\Local\\Continuum\\anaconda3\\lib\\site-packages\\keras\\backend\\tensorflow_backend.py:3445: calling dropout (from tensorflow.python.ops.nn_ops) with keep_prob is deprecated and will be removed in a future version.\n",
      "Instructions for updating:\n",
      "Please use `rate` instead of `keep_prob`. Rate should be set to `rate = 1 - keep_prob`.\n",
      "_________________________________________________________________\n",
      "Layer (type)                 Output Shape              Param #   \n",
      "=================================================================\n",
      "embedding_1 (Embedding)      (None, 32, 100)           16700     \n",
      "_________________________________________________________________\n",
      "conv1d_1 (Conv1D)            (None, 32, 64)            19264     \n",
      "_________________________________________________________________\n",
      "dropout_1 (Dropout)          (None, 32, 64)            0         \n",
      "_________________________________________________________________\n",
      "max_pooling1d_1 (MaxPooling1 (None, 16, 64)            0         \n",
      "_________________________________________________________________\n",
      "conv1d_2 (Conv1D)            (None, 16, 128)           24704     \n",
      "_________________________________________________________________\n",
      "dropout_2 (Dropout)          (None, 16, 128)           0         \n",
      "_________________________________________________________________\n",
      "max_pooling1d_2 (MaxPooling1 (None, 8, 128)            0         \n",
      "_________________________________________________________________\n",
      "conv1d_3 (Conv1D)            (None, 8, 256)            98560     \n",
      "_________________________________________________________________\n",
      "dropout_3 (Dropout)          (None, 8, 256)            0         \n",
      "_________________________________________________________________\n",
      "max_pooling1d_3 (MaxPooling1 (None, 4, 256)            0         \n",
      "_________________________________________________________________\n",
      "global_max_pooling1d_1 (Glob (None, 256)               0         \n",
      "_________________________________________________________________\n",
      "dense_1 (Dense)              (None, 256)               65792     \n",
      "_________________________________________________________________\n",
      "dense_2 (Dense)              (None, 167)               42919     \n",
      "=================================================================\n",
      "Total params: 267,939\n",
      "Trainable params: 267,939\n",
      "Non-trainable params: 0\n",
      "_________________________________________________________________\n"
     ]
    }
   ],
   "source": [
    "from keras.layers import * \n",
    "from keras.models import *\n",
    "from keras.callbacks import *\n",
    "import keras.backend as k\n",
    "\n",
    "k.clear_session()\n",
    "model = Sequential()\n",
    "\n",
    "model.add(Embedding(len(unique_x), 100, input_length=32, trainable=True))\n",
    "\n",
    "model.add(Conv1D(64, 3, padding='causal', activation='relu')) \n",
    "model.add(Dropout(0.2))\n",
    "model.add(MaxPool1D(2))\n",
    "\n",
    "model.add(Conv1D(128, 3, activation='relu', dilation_rate=2, padding='causal')) \n",
    "model.add(Dropout(0.2))\n",
    "model.add(MaxPool1D(2))\n",
    "\n",
    "model.add(Conv1D(256, 3, activation='relu', dilation_rate=4, padding='causal'))\n",
    "model.add(Dropout(0.2))\n",
    "model.add(MaxPool1D(2))\n",
    "          \n",
    "model.add(GlobalMaxPool1D())\n",
    "\n",
    "model.add(Dense(256, activation='relu'))\n",
    "model.add(Dense(len(unique_y), activation='softmax'))\n",
    "\n",
    "model.compile(loss='sparse_categorical_crossentropy', optimizer='adam')\n",
    "\n",
    "model.summary()"
   ]
  },
  {
   "cell_type": "code",
   "execution_count": 36,
   "metadata": {},
   "outputs": [],
   "source": [
    "mc=ModelCheckpoint('best_model.h5', monitor='val_loss', mode='min', save_best_only=True, verbose=1)"
   ]
  },
  {
   "cell_type": "code",
   "execution_count": 37,
   "metadata": {},
   "outputs": [
    {
     "name": "stdout",
     "output_type": "stream",
     "text": [
      "WARNING:tensorflow:From C:\\Users\\nagarc1\\AppData\\Local\\Continuum\\anaconda3\\lib\\site-packages\\tensorflow\\python\\ops\\math_ops.py:3066: to_int32 (from tensorflow.python.ops.math_ops) is deprecated and will be removed in a future version.\n",
      "Instructions for updating:\n",
      "Use tf.cast instead.\n",
      "WARNING:tensorflow:From C:\\Users\\nagarc1\\AppData\\Local\\Continuum\\anaconda3\\lib\\site-packages\\tensorflow\\python\\ops\\math_grad.py:102: div (from tensorflow.python.ops.math_ops) is deprecated and will be removed in a future version.\n",
      "Instructions for updating:\n",
      "Deprecated in favor of operator or tf.math.divide.\n",
      "Train on 51530 samples, validate on 12883 samples\n",
      "Epoch 1/50\n",
      "51530/51530 [==============================] - 20s 386us/step - loss: 4.3129 - val_loss: 4.0313\n",
      "\n",
      "Epoch 00001: val_loss improved from inf to 4.03131, saving model to best_model.h5\n",
      "Epoch 2/50\n",
      "51530/51530 [==============================] - 19s 372us/step - loss: 3.7858 - val_loss: 3.7875\n",
      "\n",
      "Epoch 00002: val_loss improved from 4.03131 to 3.78752, saving model to best_model.h5\n",
      "Epoch 3/50\n",
      "51530/51530 [==============================] - 22s 428us/step - loss: 3.6156 - val_loss: 3.7285\n",
      "\n",
      "Epoch 00003: val_loss improved from 3.78752 to 3.72846, saving model to best_model.h5\n",
      "Epoch 4/50\n",
      "51530/51530 [==============================] - 22s 428us/step - loss: 3.4887 - val_loss: 3.5899\n",
      "\n",
      "Epoch 00004: val_loss improved from 3.72846 to 3.58995, saving model to best_model.h5\n",
      "Epoch 5/50\n",
      "51530/51530 [==============================] - 22s 436us/step - loss: 3.3820 - val_loss: 3.4988\n",
      "\n",
      "Epoch 00005: val_loss improved from 3.58995 to 3.49885, saving model to best_model.h5\n",
      "Epoch 6/50\n",
      "51530/51530 [==============================] - 23s 437us/step - loss: 3.3005 - val_loss: 3.4225\n",
      "\n",
      "Epoch 00006: val_loss improved from 3.49885 to 3.42247, saving model to best_model.h5\n",
      "Epoch 7/50\n",
      "51530/51530 [==============================] - 22s 435us/step - loss: 3.2267 - val_loss: 3.4013\n",
      "\n",
      "Epoch 00007: val_loss improved from 3.42247 to 3.40130, saving model to best_model.h5\n",
      "Epoch 8/50\n",
      "51530/51530 [==============================] - 23s 446us/step - loss: 3.1636 - val_loss: 3.3305\n",
      "\n",
      "Epoch 00008: val_loss improved from 3.40130 to 3.33046, saving model to best_model.h5\n",
      "Epoch 9/50\n",
      "51530/51530 [==============================] - 24s 464us/step - loss: 3.1027 - val_loss: 3.2865\n",
      "\n",
      "Epoch 00009: val_loss improved from 3.33046 to 3.28646, saving model to best_model.h5\n",
      "Epoch 10/50\n",
      "51530/51530 [==============================] - 22s 431us/step - loss: 3.0476 - val_loss: 3.2532\n",
      "\n",
      "Epoch 00010: val_loss improved from 3.28646 to 3.25321, saving model to best_model.h5\n",
      "Epoch 11/50\n",
      "51530/51530 [==============================] - 23s 442us/step - loss: 3.0035 - val_loss: 3.2177\n",
      "\n",
      "Epoch 00011: val_loss improved from 3.25321 to 3.21772, saving model to best_model.h5\n",
      "Epoch 12/50\n",
      "51530/51530 [==============================] - 23s 437us/step - loss: 2.9592 - val_loss: 3.1994\n",
      "\n",
      "Epoch 00012: val_loss improved from 3.21772 to 3.19941, saving model to best_model.h5\n",
      "Epoch 13/50\n",
      "51530/51530 [==============================] - 23s 447us/step - loss: 2.9153 - val_loss: 3.1792\n",
      "\n",
      "Epoch 00013: val_loss improved from 3.19941 to 3.17919, saving model to best_model.h5\n",
      "Epoch 14/50\n",
      "51530/51530 [==============================] - 23s 450us/step - loss: 2.8800 - val_loss: 3.1216\n",
      "\n",
      "Epoch 00014: val_loss improved from 3.17919 to 3.12156, saving model to best_model.h5\n",
      "Epoch 15/50\n",
      "51530/51530 [==============================] - 23s 442us/step - loss: 2.8362 - val_loss: 3.0952\n",
      "\n",
      "Epoch 00015: val_loss improved from 3.12156 to 3.09517, saving model to best_model.h5\n",
      "Epoch 16/50\n",
      "51530/51530 [==============================] - 23s 453us/step - loss: 2.8104 - val_loss: 3.0800\n",
      "\n",
      "Epoch 00016: val_loss improved from 3.09517 to 3.08004, saving model to best_model.h5\n",
      "Epoch 17/50\n",
      "51530/51530 [==============================] - 23s 446us/step - loss: 2.7788 - val_loss: 3.0469\n",
      "\n",
      "Epoch 00017: val_loss improved from 3.08004 to 3.04693, saving model to best_model.h5\n",
      "Epoch 18/50\n",
      "51530/51530 [==============================] - 23s 453us/step - loss: 2.7481 - val_loss: 3.0407\n",
      "\n",
      "Epoch 00018: val_loss improved from 3.04693 to 3.04065, saving model to best_model.h5\n",
      "Epoch 19/50\n",
      "51530/51530 [==============================] - 23s 454us/step - loss: 2.7236 - val_loss: 3.0137\n",
      "\n",
      "Epoch 00019: val_loss improved from 3.04065 to 3.01366, saving model to best_model.h5\n",
      "Epoch 20/50\n",
      "51530/51530 [==============================] - 27s 525us/step - loss: 2.6978 - val_loss: 3.0088\n",
      "\n",
      "Epoch 00020: val_loss improved from 3.01366 to 3.00879, saving model to best_model.h5\n",
      "Epoch 21/50\n",
      "51530/51530 [==============================] - 26s 503us/step - loss: 2.6707 - val_loss: 3.0074\n",
      "\n",
      "Epoch 00021: val_loss improved from 3.00879 to 3.00736, saving model to best_model.h5\n",
      "Epoch 22/50\n",
      "51530/51530 [==============================] - 26s 502us/step - loss: 2.6546 - val_loss: 2.9782\n",
      "\n",
      "Epoch 00022: val_loss improved from 3.00736 to 2.97818, saving model to best_model.h5\n",
      "Epoch 23/50\n",
      "51530/51530 [==============================] - 25s 492us/step - loss: 2.6282 - val_loss: 2.9455\n",
      "\n",
      "Epoch 00023: val_loss improved from 2.97818 to 2.94546, saving model to best_model.h5\n",
      "Epoch 24/50\n",
      "51530/51530 [==============================] - 26s 495us/step - loss: 2.6139 - val_loss: 2.9363\n",
      "\n",
      "Epoch 00024: val_loss improved from 2.94546 to 2.93627, saving model to best_model.h5\n",
      "Epoch 25/50\n",
      "51530/51530 [==============================] - 25s 484us/step - loss: 2.5897 - val_loss: 2.9380\n",
      "\n",
      "Epoch 00025: val_loss did not improve from 2.93627\n",
      "Epoch 26/50\n",
      "51530/51530 [==============================] - 25s 490us/step - loss: 2.5742 - val_loss: 2.9034\n",
      "\n",
      "Epoch 00026: val_loss improved from 2.93627 to 2.90336, saving model to best_model.h5\n",
      "Epoch 27/50\n",
      "51530/51530 [==============================] - 26s 503us/step - loss: 2.5559 - val_loss: 2.9175\n",
      "\n",
      "Epoch 00027: val_loss did not improve from 2.90336\n",
      "Epoch 28/50\n",
      "51530/51530 [==============================] - 27s 525us/step - loss: 2.5401 - val_loss: 2.9025\n",
      "\n",
      "Epoch 00028: val_loss improved from 2.90336 to 2.90249, saving model to best_model.h5\n",
      "Epoch 29/50\n",
      "51530/51530 [==============================] - 26s 502us/step - loss: 2.5248 - val_loss: 2.8859\n",
      "\n",
      "Epoch 00029: val_loss improved from 2.90249 to 2.88588, saving model to best_model.h5\n",
      "Epoch 30/50\n",
      "51530/51530 [==============================] - 26s 513us/step - loss: 2.5129 - val_loss: 2.8837\n",
      "\n",
      "Epoch 00030: val_loss improved from 2.88588 to 2.88370, saving model to best_model.h5\n",
      "Epoch 31/50\n",
      "51530/51530 [==============================] - 26s 511us/step - loss: 2.4996 - val_loss: 2.8762\n",
      "\n",
      "Epoch 00031: val_loss improved from 2.88370 to 2.87617, saving model to best_model.h5\n",
      "Epoch 32/50\n",
      "51530/51530 [==============================] - 24s 473us/step - loss: 2.4837 - val_loss: 2.8596\n",
      "\n",
      "Epoch 00032: val_loss improved from 2.87617 to 2.85959, saving model to best_model.h5\n",
      "Epoch 33/50\n",
      "51530/51530 [==============================] - 23s 452us/step - loss: 2.4766 - val_loss: 2.8618\n",
      "\n",
      "Epoch 00033: val_loss did not improve from 2.85959\n",
      "Epoch 34/50\n",
      "51530/51530 [==============================] - 23s 453us/step - loss: 2.4651 - val_loss: 2.8630\n",
      "\n",
      "Epoch 00034: val_loss did not improve from 2.85959\n",
      "Epoch 35/50\n",
      "51530/51530 [==============================] - 24s 467us/step - loss: 2.4456 - val_loss: 2.8454\n",
      "\n",
      "Epoch 00035: val_loss improved from 2.85959 to 2.84536, saving model to best_model.h5\n",
      "Epoch 36/50\n",
      "51530/51530 [==============================] - 24s 468us/step - loss: 2.4369 - val_loss: 2.8428\n",
      "\n",
      "Epoch 00036: val_loss improved from 2.84536 to 2.84276, saving model to best_model.h5\n",
      "Epoch 37/50\n",
      "51530/51530 [==============================] - 24s 458us/step - loss: 2.4266 - val_loss: 2.8341\n",
      "\n",
      "Epoch 00037: val_loss improved from 2.84276 to 2.83415, saving model to best_model.h5\n",
      "Epoch 38/50\n",
      "51530/51530 [==============================] - 24s 466us/step - loss: 2.4180 - val_loss: 2.8281\n",
      "\n",
      "Epoch 00038: val_loss improved from 2.83415 to 2.82805, saving model to best_model.h5\n",
      "Epoch 39/50\n",
      "51530/51530 [==============================] - 24s 466us/step - loss: 2.4073 - val_loss: 2.8210\n",
      "\n",
      "Epoch 00039: val_loss improved from 2.82805 to 2.82101, saving model to best_model.h5\n",
      "Epoch 40/50\n"
     ]
    },
    {
     "name": "stdout",
     "output_type": "stream",
     "text": [
      "51530/51530 [==============================] - 23s 453us/step - loss: 2.3918 - val_loss: 2.8125\n",
      "\n",
      "Epoch 00040: val_loss improved from 2.82101 to 2.81253, saving model to best_model.h5\n",
      "Epoch 41/50\n",
      "51530/51530 [==============================] - 23s 454us/step - loss: 2.3955 - val_loss: 2.8144\n",
      "\n",
      "Epoch 00041: val_loss did not improve from 2.81253\n",
      "Epoch 42/50\n",
      "51530/51530 [==============================] - 23s 455us/step - loss: 2.3826 - val_loss: 2.8199\n",
      "\n",
      "Epoch 00042: val_loss did not improve from 2.81253\n",
      "Epoch 43/50\n",
      "51530/51530 [==============================] - 24s 458us/step - loss: 2.3705 - val_loss: 2.8128\n",
      "\n",
      "Epoch 00043: val_loss did not improve from 2.81253\n",
      "Epoch 44/50\n",
      "51530/51530 [==============================] - 24s 473us/step - loss: 2.3659 - val_loss: 2.8034\n",
      "\n",
      "Epoch 00044: val_loss improved from 2.81253 to 2.80343, saving model to best_model.h5\n",
      "Epoch 45/50\n",
      "51530/51530 [==============================] - 23s 446us/step - loss: 2.3540 - val_loss: 2.7879\n",
      "\n",
      "Epoch 00045: val_loss improved from 2.80343 to 2.78787, saving model to best_model.h5\n",
      "Epoch 46/50\n",
      "51530/51530 [==============================] - 23s 455us/step - loss: 2.3456 - val_loss: 2.7873\n",
      "\n",
      "Epoch 00046: val_loss improved from 2.78787 to 2.78732, saving model to best_model.h5\n",
      "Epoch 47/50\n",
      "51530/51530 [==============================] - 23s 453us/step - loss: 2.3474 - val_loss: 2.7761\n",
      "\n",
      "Epoch 00047: val_loss improved from 2.78732 to 2.77615, saving model to best_model.h5\n",
      "Epoch 48/50\n",
      "51530/51530 [==============================] - 23s 444us/step - loss: 2.3375 - val_loss: 2.7771\n",
      "\n",
      "Epoch 00048: val_loss did not improve from 2.77615\n",
      "Epoch 49/50\n",
      "51530/51530 [==============================] - 23s 452us/step - loss: 2.3227 - val_loss: 2.7877\n",
      "\n",
      "Epoch 00049: val_loss did not improve from 2.77615\n",
      "Epoch 50/50\n",
      "51530/51530 [==============================] - 23s 446us/step - loss: 2.3247 - val_loss: 2.7783\n",
      "\n",
      "Epoch 00050: val_loss did not improve from 2.77615\n"
     ]
    }
   ],
   "source": [
    "history=model.fit(np.array(x_tr),np.array(y_tr),batch_size=128,epochs=50,validation_data=(np.array(x_val),\n",
    "                np.array(y_val)),verbose=1, callbacks=[mc])"
   ]
  },
  {
   "cell_type": "code",
   "execution_count": 38,
   "metadata": {},
   "outputs": [],
   "source": [
    "from keras.models import load_model\n",
    "model = load_model('best_model.h5')"
   ]
  },
  {
   "cell_type": "code",
   "execution_count": 41,
   "metadata": {},
   "outputs": [
    {
     "name": "stdout",
     "output_type": "stream",
     "text": [
      "[17, 17, 17, 133, 17, 17, 17, 17, 17, 17]\n"
     ]
    }
   ],
   "source": [
    "import random \n",
    "\n",
    "ind = np.random.randint(0,len(x_val)-1)\n",
    "random_music = x_val[ind]\n",
    "\n",
    "predictions=[]\n",
    "for i in range(10):\n",
    "    random_music = random_music.reshape(1,no_of_timestamps)\n",
    "    \n",
    "    prob = model.predict(random_music)[0]\n",
    "    y_pred = np.argmax(prob, axis=0)\n",
    "    predictions.append(y_pred)\n",
    "    \n",
    "    random_music = np.insert(random_music[0], len(random_music[0]), y_pred)\n",
    "    random_music = random_music[1:]\n",
    "    \n",
    "print(predictions)"
   ]
  },
  {
   "cell_type": "code",
   "execution_count": 42,
   "metadata": {},
   "outputs": [],
   "source": [
    "x_int_to_note = dict((number, note_) for number, note_ in enumerate(unique_x)) \n",
    "predicted_notes = [x_int_to_note[i] for i in predictions]"
   ]
  },
  {
   "cell_type": "code",
   "execution_count": 43,
   "metadata": {},
   "outputs": [],
   "source": [
    "def convert_to_midi(prediction_output):\n",
    "   \n",
    "    offset = 0\n",
    "    output_notes = []\n",
    "\n",
    "    # create note and chord objects based on the values generated by the model\n",
    "    for pattern in prediction_output:\n",
    "        \n",
    "        # pattern is a chord\n",
    "        if ('.' in pattern) or pattern.isdigit():\n",
    "            notes_in_chord = pattern.split('.')\n",
    "            notes = []\n",
    "            for current_note in notes_in_chord:\n",
    "                \n",
    "                cn=int(current_note)\n",
    "                new_note = note.Note(cn)\n",
    "                new_note.storedInstrument = instrument.Piano()\n",
    "                notes.append(new_note)\n",
    "                \n",
    "            new_chord = chord.Chord(notes)\n",
    "            new_chord.offset = offset\n",
    "            output_notes.append(new_chord)\n",
    "            \n",
    "        # pattern is a note\n",
    "        else:\n",
    "            \n",
    "            new_note = note.Note(pattern)\n",
    "            new_note.offset = offset\n",
    "            new_note.storedInstrument = instrument.Piano()\n",
    "            output_notes.append(new_note)\n",
    "\n",
    "        # increase offset each iteration so that notes do not stack\n",
    "        offset += 1\n",
    "    midi_stream = stream.Stream(output_notes)\n",
    "    midi_stream.write('midi', fp='music.mid')"
   ]
  },
  {
   "cell_type": "code",
   "execution_count": 44,
   "metadata": {},
   "outputs": [],
   "source": [
    "convert_to_midi(predicted_notes)"
   ]
  },
  {
   "cell_type": "code",
   "execution_count": null,
   "metadata": {},
   "outputs": [],
   "source": []
  }
 ],
 "metadata": {
  "kernelspec": {
   "display_name": "Python 3",
   "language": "python",
   "name": "python3"
  },
  "language_info": {
   "codemirror_mode": {
    "name": "ipython",
    "version": 3
   },
   "file_extension": ".py",
   "mimetype": "text/x-python",
   "name": "python",
   "nbconvert_exporter": "python",
   "pygments_lexer": "ipython3",
   "version": "3.7.1"
  }
 },
 "nbformat": 4,
 "nbformat_minor": 4
}
